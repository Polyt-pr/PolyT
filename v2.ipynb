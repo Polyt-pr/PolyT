{
 "cells": [
  {
   "cell_type": "code",
   "execution_count": 72,
   "metadata": {},
   "outputs": [
    {
     "name": "stdout",
     "output_type": "stream",
     "text": [
      "\n",
      "\u001b[1m[\u001b[0m\u001b[34;49mnotice\u001b[0m\u001b[1;39;49m]\u001b[0m\u001b[39;49m A new release of pip is available: \u001b[0m\u001b[31;49m24.0\u001b[0m\u001b[39;49m -> \u001b[0m\u001b[32;49m24.2\u001b[0m\n",
      "\u001b[1m[\u001b[0m\u001b[34;49mnotice\u001b[0m\u001b[1;39;49m]\u001b[0m\u001b[39;49m To update, run: \u001b[0m\u001b[32;49mpip install --upgrade pip\u001b[0m\n",
      "Note: you may need to restart the kernel to use updated packages.\n"
     ]
    }
   ],
   "source": [
    "%pip install --quiet openai python-dotenv"
   ]
  },
  {
   "cell_type": "markdown",
   "metadata": {},
   "source": [
    "### Deleting Contents in the JSON file"
   ]
  },
  {
   "cell_type": "code",
   "execution_count": 73,
   "metadata": {},
   "outputs": [
    {
     "name": "stdout",
     "output_type": "stream",
     "text": [
      "All objects removed from sentiment_results.json. The file now contains an empty list.\n"
     ]
    }
   ],
   "source": [
    "import json\n",
    "\n",
    "def clear_sentiment_results(file_name):\n",
    "    file_path = \"results/\" + file_name\n",
    "    try:\n",
    "        # Open the file in write mode, which will clear its contents\n",
    "        with open(file_path, 'w') as f:\n",
    "            # Write an empty list to the file\n",
    "            json.dump([], f)\n",
    "        print(f\"All objects removed from {file_path}. The file now contains an empty list.\")\n",
    "    except Exception as e:\n",
    "        print(f\"An error occurred while clearing the file: {str(e)}\")\n",
    "\n",
    "# Call the function to clear the file\n",
    "clear_sentiment_results(\"sentiment_results.json\")"
   ]
  },
  {
   "cell_type": "markdown",
   "metadata": {},
   "source": [
    "### New Code with tracking of reasonings and updating prompt"
   ]
  },
  {
   "cell_type": "code",
   "execution_count": 74,
   "metadata": {},
   "outputs": [],
   "source": [
    "import json\n",
    "\n",
    "def store_result(result, file_name):\n",
    "    file_path = \"results/\" + file_name\n",
    "    try:\n",
    "        # Read existing results\n",
    "        with open(file_path, 'r') as f:\n",
    "            results = json.load(f)\n",
    "    except FileNotFoundError:\n",
    "        # If file doesn't exist, start with an empty list\n",
    "        results = []\n",
    "    \n",
    "    # Append new result\n",
    "    results.append(result)\n",
    "    \n",
    "    # Write updated results back to file\n",
    "    with open(file_path, 'w') as f:\n",
    "        json.dump(results, f, indent=2)"
   ]
  },
  {
   "cell_type": "code",
   "execution_count": 75,
   "metadata": {},
   "outputs": [],
   "source": [
    "import os\n",
    "from dotenv import load_dotenv\n",
    "from openai import OpenAI\n",
    "\n",
    "# Load environment variables\n",
    "load_dotenv()\n",
    "\n",
    "# Access the API key\n",
    "api_key = os.getenv('OPENAI_API_KEY')\n",
    "\n",
    "# Create an OpenAI client\n",
    "client = OpenAI(api_key=api_key)\n",
    "\n",
    "# Define the sentiment schema\n",
    "sentiment_schema = {\n",
    "    \"type\": \"json_schema\",\n",
    "    \"json_schema\": {\n",
    "        \"name\": \"sentiment_response\",\n",
    "        \"strict\": True,\n",
    "        \"schema\": {\n",
    "            \"type\": \"object\",\n",
    "            \"properties\": {\n",
    "                \"sentiment\": {\n",
    "                    \"type\": \"boolean\",\n",
    "                    \"description\": \"True if in favor of the proposition, false if against\"\n",
    "                },\n",
    "                \"reason\": {\n",
    "                    \"type\": \"string\",\n",
    "                    \"description\": \"Very brief core argument in sentiment analysis\"\n",
    "                }\n",
    "            },\n",
    "            \"required\": [\"sentiment\", \"reason\"],\n",
    "            \"additionalProperties\": False\n",
    "        }\n",
    "    }\n",
    "}\n",
    "\n",
    "def analyze_opinion_reasoning(question, opinion, previous_results):\n",
    "    try:\n",
    "        # Create a string of previous results and their frequencies\n",
    "        previous_results_str = \", \".join([f\"{reason}\" for reason, _ in previous_results.items()])\n",
    "        \n",
    "        # TODO: Find a more organized way to display the previous results in prompt\n",
    "        system_message = f\"\"\"You are a helpful assistant analyzing opinions on the following question: '{question}'.\n",
    "        Analyze any opinion given and provide a boolean sentiment (true if the opinion answering yes to the question, false if is answering no) and a very brief core argument on why yes or no in a few words or less.\n",
    "        If and only if the opinion's core argument is very similar to a previous core argument, use that exact wording.\n",
    "        {f\"Previous core arguments: {previous_results_str}.\" if previous_results else ''}\n",
    "        Opinion: \n",
    "        \"\"\"\n",
    "        \n",
    "        response = client.chat.completions.create(\n",
    "            model=\"gpt-4o-mini-2024-07-18\", \n",
    "            messages=[\n",
    "                {\"role\": \"system\", \"content\": system_message},\n",
    "                {\"role\": \"user\", \"content\": opinion}\n",
    "            ],\n",
    "            response_format=sentiment_schema,\n",
    "            temperature=0.8,\n",
    "            max_tokens=150  # Adjust as needed\n",
    "        )\n",
    "        result = json.loads(response.choices[0].message.content)\n",
    "        \n",
    "        # Update the previous_results dictionary\n",
    "        reason = result.get('reason')\n",
    "        if reason:\n",
    "            previous_results[reason] = previous_results.get(reason, 0) + 1\n",
    "        \n",
    "        return result, previous_results\n",
    "    except Exception as e:\n",
    "        print(f\"An error occurred: {str(e)}\")\n",
    "        return None"
   ]
  },
  {
   "cell_type": "code",
   "execution_count": 76,
   "metadata": {},
   "outputs": [
    {
     "name": "stdout",
     "output_type": "stream",
     "text": [
      "Core Argument Frequencies:\n",
      "Phones contribute to mental health issues.: 3\n",
      "Phones prevent socialization between students during school.: 2\n",
      "Phones reduce focus on education.: 2\n",
      "Phones provide communication safety for students.: 3\n"
     ]
    }
   ],
   "source": [
    "# Main execution\n",
    "if __name__ == \"__main__\":\n",
    "    file_name = \"sentiment_results.json\"\n",
    "    question = \"Should phones be banned from schools?\"\n",
    "    # opinions = [\n",
    "    #     \"I think phones should be banned from school since they are distracting from students learning.\",\n",
    "    #     \"Phones are necessary for emergency situations, so they shouldn't be banned.\",\n",
    "    #     \"Banning phones would eliminate cheating during exams.\",\n",
    "    #     \"Students need phones to stay connected with their parents.\",\n",
    "    #     \"Phones can be educational tools when used properly in the classroom.\",\n",
    "    # ]\n",
    "\n",
    "    opinions =[\n",
    "        \"Just as more kids began spending more time with their phones, we saw a massive spike in depression and mental illness.\",\n",
    "        \"Phones prevent socialization between students during school. \",\n",
    "        \"Despite what rules may exist, most students are using their phones during school\",\n",
    "        \"Phone usage reduces learning\",\n",
    "        \"having a smartphone with you at all times is it gives you the ability to instantly communicate with someone else. Students are able to contact parents, guardians or the authorities without much hassle and vice versa.\",\n",
    "        \"Smartphones are all about the apps and the amazing things they can do, these apps can be used in a number of creative ways to facilitate their classroom learning experience.\",\n",
    "        \"With phones, students can access research, news and videos to enhance their learning.\",\n",
    "        \"Smartphones can be utilized for digital harassment in and out of school.\",\n",
    "        \"students could become highly distracted from the many sources of entertainment.\",\n",
    "        \"Frequent usage of smartphones has been linked to negative effects on both physical and mental health. \",\n",
    "    ]\n",
    "\n",
    "\n",
    "    # Initialize the previous_results dictionary\n",
    "    previous_results = {}\n",
    "\n",
    "    for opinion in opinions:\n",
    "        json_content, previous_results = analyze_opinion_reasoning(question, opinion, previous_results)\n",
    "        store_result(result=json_content, file_name=file_name)\n",
    "\n",
    "    print(\"Core Argument Frequencies:\")\n",
    "    for reason, count in previous_results.items():\n",
    "        print(f\"{reason}: {count}\")"
   ]
  }
 ],
 "metadata": {
  "kernelspec": {
   "display_name": ".venv",
   "language": "python",
   "name": "python3"
  },
  "language_info": {
   "codemirror_mode": {
    "name": "ipython",
    "version": 3
   },
   "file_extension": ".py",
   "mimetype": "text/x-python",
   "name": "python",
   "nbconvert_exporter": "python",
   "pygments_lexer": "ipython3",
   "version": "3.10.9"
  }
 },
 "nbformat": 4,
 "nbformat_minor": 2
}
