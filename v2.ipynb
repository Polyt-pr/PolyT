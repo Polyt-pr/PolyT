{
 "cells": [
  {
   "cell_type": "code",
   "execution_count": 3,
   "metadata": {},
   "outputs": [
    {
     "name": "stdout",
     "output_type": "stream",
     "text": [
      "Requirement already satisfied: openai in /Users/rohankoshy/.venv/lib/python3.12/site-packages (1.40.8)\n",
      "Requirement already satisfied: anyio<5,>=3.5.0 in /Users/rohankoshy/.venv/lib/python3.12/site-packages (from openai) (4.4.0)\n",
      "Requirement already satisfied: distro<2,>=1.7.0 in /Users/rohankoshy/.venv/lib/python3.12/site-packages (from openai) (1.9.0)\n",
      "Requirement already satisfied: httpx<1,>=0.23.0 in /Users/rohankoshy/.venv/lib/python3.12/site-packages (from openai) (0.27.0)\n",
      "Requirement already satisfied: jiter<1,>=0.4.0 in /Users/rohankoshy/.venv/lib/python3.12/site-packages (from openai) (0.5.0)\n",
      "Requirement already satisfied: pydantic<3,>=1.9.0 in /Users/rohankoshy/.venv/lib/python3.12/site-packages (from openai) (2.8.2)\n",
      "Requirement already satisfied: sniffio in /Users/rohankoshy/.venv/lib/python3.12/site-packages (from openai) (1.3.1)\n",
      "Requirement already satisfied: tqdm>4 in /Users/rohankoshy/.venv/lib/python3.12/site-packages (from openai) (4.66.4)\n",
      "Requirement already satisfied: typing-extensions<5,>=4.11 in /Users/rohankoshy/.venv/lib/python3.12/site-packages (from openai) (4.12.2)\n",
      "Requirement already satisfied: idna>=2.8 in /Users/rohankoshy/.venv/lib/python3.12/site-packages (from anyio<5,>=3.5.0->openai) (3.7)\n",
      "Requirement already satisfied: certifi in /Users/rohankoshy/.venv/lib/python3.12/site-packages (from httpx<1,>=0.23.0->openai) (2024.7.4)\n",
      "Requirement already satisfied: httpcore==1.* in /Users/rohankoshy/.venv/lib/python3.12/site-packages (from httpx<1,>=0.23.0->openai) (1.0.5)\n",
      "Requirement already satisfied: h11<0.15,>=0.13 in /Users/rohankoshy/.venv/lib/python3.12/site-packages (from httpcore==1.*->httpx<1,>=0.23.0->openai) (0.14.0)\n",
      "Requirement already satisfied: annotated-types>=0.4.0 in /Users/rohankoshy/.venv/lib/python3.12/site-packages (from pydantic<3,>=1.9.0->openai) (0.7.0)\n",
      "Requirement already satisfied: pydantic-core==2.20.1 in /Users/rohankoshy/.venv/lib/python3.12/site-packages (from pydantic<3,>=1.9.0->openai) (2.20.1)\n",
      "Note: you may need to restart the kernel to use updated packages.\n"
     ]
    }
   ],
   "source": [
    "pip install openai"
   ]
  },
  {
   "cell_type": "code",
   "execution_count": 4,
   "metadata": {},
   "outputs": [
    {
     "name": "stdout",
     "output_type": "stream",
     "text": [
      "Requirement already satisfied: python-dotenv in /Users/rohankoshy/.venv/lib/python3.12/site-packages (1.0.1)\n",
      "Note: you may need to restart the kernel to use updated packages.\n"
     ]
    }
   ],
   "source": [
    "pip install python-dotenv"
   ]
  },
  {
   "cell_type": "markdown",
   "metadata": {},
   "source": [
    "Initial Code with Extracting Sentiment/Reason + storage"
   ]
  },
  {
   "cell_type": "code",
   "execution_count": 43,
   "metadata": {},
   "outputs": [
    {
     "name": "stdout",
     "output_type": "stream",
     "text": [
      "Result appended to sentiment_results.json\n"
     ]
    }
   ],
   "source": [
    "import os\n",
    "import json\n",
    "from dotenv import load_dotenv\n",
    "from openai import OpenAI\n",
    "\n",
    "# Load environment variables\n",
    "load_dotenv()\n",
    "\n",
    "# Access the API key\n",
    "api_key = os.getenv('OPENAI_API_KEY')\n",
    "\n",
    "# Create an OpenAI client\n",
    "client = OpenAI(api_key=api_key)\n",
    "\n",
    "# Define the sentiment schema\n",
    "sentiment_schema = {\n",
    "    \"type\": \"json_schema\",\n",
    "    \"json_schema\": {\n",
    "        \"name\": \"sentiment_response\",\n",
    "        \"strict\": True,\n",
    "        \"schema\": {\n",
    "            \"type\": \"object\",\n",
    "            \"properties\": {\n",
    "                \"sentiment\": {\n",
    "                    \"type\": \"boolean\",\n",
    "                    \"description\": \"True if in favor of the proposition, false if against\"\n",
    "                },\n",
    "                \"reason\": {\n",
    "                    \"type\": \"string\",\n",
    "                    \"description\": \"Very brief core arguement in sentiment analysis\"\n",
    "                }\n",
    "            },\n",
    "            \"required\": [\"sentiment\", \"reason\"],\n",
    "            \"additionalProperties\": False\n",
    "        }\n",
    "    }\n",
    "}\n",
    "\n",
    "\n",
    "def gpt4_call(user_prompt):\n",
    "    try:\n",
    "        # Load the schema from file\n",
    "        system_message = \"You are a helpful assistant who is summarizing student opinions on if phones should be banned from school.\"\n",
    "        response = client.chat.completions.create(\n",
    "            model=\"gpt-4o-mini-2024-07-18\", \n",
    "            messages=[\n",
    "                {\"role\": \"system\", \"content\": system_message},\n",
    "                {\"role\": \"user\", \"content\": user_prompt}\n",
    "            ],\n",
    "            response_format=sentiment_schema,\n",
    "            max_tokens=150  # Adjust as needed\n",
    "        )\n",
    "        return json.loads(response.choices[0].message.content)\n",
    "    except Exception as e:\n",
    "        return {\"error\": f\"An error occurred: {str(e)}\"}\n",
    "\n",
    "def store_result(result, filename=\"sentiment_results.json\"):\n",
    "    try:\n",
    "        # Read existing results\n",
    "        with open(filename, 'r') as f:\n",
    "            results = json.load(f)\n",
    "    except FileNotFoundError:\n",
    "        # If file doesn't exist, start with an empty list\n",
    "        results = []\n",
    "    \n",
    "    # Append new result\n",
    "    results.append(result)\n",
    "    \n",
    "    # Write updated results back to file\n",
    "    with open(filename, 'w') as f:\n",
    "        json.dump(results, f, indent=2)\n",
    "    print(f\"Result appended to {filename}\")\n",
    "\n",
    "\n",
    "# Test the function\n",
    "if __name__ == \"__main__\":\n",
    "    test_prompt = \"I think phones should be banned from school since they are distracting from my learning.\"\n",
    "    result = gpt4_call(test_prompt)\n",
    "    \n",
    "    # Store the result in the file\n",
    "    store_result(result)"
   ]
  },
  {
   "cell_type": "markdown",
   "metadata": {},
   "source": [
    "Deleting Contents in the JSON file"
   ]
  },
  {
   "cell_type": "code",
   "execution_count": 66,
   "metadata": {},
   "outputs": [
    {
     "name": "stdout",
     "output_type": "stream",
     "text": [
      "All objects removed from sentiment_results.json. The file now contains an empty list.\n"
     ]
    }
   ],
   "source": [
    "import json\n",
    "import os\n",
    "\n",
    "def clear_sentiment_results(filename=\"sentiment_results.json\"):\n",
    "    try:\n",
    "        # Open the file in write mode, which will clear its contents\n",
    "        with open(filename, 'w') as f:\n",
    "            # Write an empty list to the file\n",
    "            json.dump([], f)\n",
    "        print(f\"All objects removed from {filename}. The file now contains an empty list.\")\n",
    "    except Exception as e:\n",
    "        print(f\"An error occurred while clearing the file: {str(e)}\")\n",
    "\n",
    "# Call the function to clear the file\n",
    "clear_sentiment_results()"
   ]
  },
  {
   "cell_type": "markdown",
   "metadata": {},
   "source": [
    "New Code with tracking of reasonings and updating prompt"
   ]
  },
  {
   "cell_type": "code",
   "execution_count": 67,
   "metadata": {},
   "outputs": [
    {
     "name": "stdout",
     "output_type": "stream",
     "text": [
      "\n",
      "Core Argument Frequencies:\n",
      "phones are distracting from students learning: 2\n",
      "phones are necessary for emergency situations: 2\n",
      "Banning phones would eliminate cheating during exams.: 1\n"
     ]
    }
   ],
   "source": [
    "import os\n",
    "import json\n",
    "from dotenv import load_dotenv\n",
    "from openai import OpenAI\n",
    "\n",
    "# Load environment variables\n",
    "load_dotenv()\n",
    "\n",
    "# Access the API key\n",
    "api_key = os.getenv('OPENAI_API_KEY')\n",
    "\n",
    "# Create an OpenAI client\n",
    "client = OpenAI(api_key=api_key)\n",
    "\n",
    "# Initialize the previous_results dictionary\n",
    "previous_results = {}\n",
    "\n",
    "# Define the sentiment schema\n",
    "sentiment_schema = {\n",
    "    \"type\": \"json_schema\",\n",
    "    \"json_schema\": {\n",
    "        \"name\": \"sentiment_response\",\n",
    "        \"strict\": True,\n",
    "        \"schema\": {\n",
    "            \"type\": \"object\",\n",
    "            \"properties\": {\n",
    "                \"sentiment\": {\n",
    "                    \"type\": \"boolean\",\n",
    "                    \"description\": \"True if in favor of the proposition, false if against\"\n",
    "                },\n",
    "                \"reason\": {\n",
    "                    \"type\": \"string\",\n",
    "                    \"description\": \"Very brief core argument in sentiment analysis\"\n",
    "                }\n",
    "            },\n",
    "            \"required\": [\"sentiment\", \"reason\"],\n",
    "            \"additionalProperties\": False\n",
    "        }\n",
    "    }\n",
    "}\n",
    "\n",
    "def gpt4_call(question, opinion):\n",
    "    try:\n",
    "        # Create a string of previous results and their frequencies\n",
    "        previous_results_str = \", \".join([f\"{reason} ({count} times)\" for reason, count in previous_results.items()])\n",
    "        \n",
    "        system_message = f\"\"\"You are a helpful assistant analyzing opinions on the following question: '{question}'.\n",
    "        Previous core arguments: {previous_results_str if previous_results else 'None'}.\n",
    "        Analyze the given opinion and provide a boolean sentiment (true if in favor, false if against) and a very brief core argument.\n",
    "        If the opinion's core argument is similar to a previous one, use that exact wording.\"\"\"\n",
    "        \n",
    "        response = client.chat.completions.create(\n",
    "            model=\"gpt-4o-mini-2024-07-18\", \n",
    "            messages=[\n",
    "                {\"role\": \"system\", \"content\": system_message},\n",
    "                {\"role\": \"user\", \"content\": opinion}\n",
    "            ],\n",
    "            response_format=sentiment_schema,\n",
    "            max_tokens=150  # Adjust as needed\n",
    "        )\n",
    "        result = json.loads(response.choices[0].message.content)\n",
    "        \n",
    "        # Update the previous_results dictionary\n",
    "        reason = result.get('reason')\n",
    "        if reason:\n",
    "            previous_results[reason] = previous_results.get(reason, 0) + 1\n",
    "        \n",
    "        return result\n",
    "    except Exception as e:\n",
    "        print(f\"An error occurred: {str(e)}\")\n",
    "        return None, None\n",
    "\n",
    "def store_result(result, filename=\"sentiment_results.json\"):\n",
    "    try:\n",
    "        # Read existing results\n",
    "        with open(filename, 'r') as f:\n",
    "            results = json.load(f)\n",
    "    except FileNotFoundError:\n",
    "        # If file doesn't exist, start with an empty list\n",
    "        results = []\n",
    "    \n",
    "    # Append new result\n",
    "    results.append(result)\n",
    "    \n",
    "    # Write updated results back to file\n",
    "    with open(filename, 'w') as f:\n",
    "        json.dump(results, f, indent=2)\n",
    "\n",
    "# Main execution\n",
    "if __name__ == \"__main__\":\n",
    "    question = \"Should phones be banned from schools?\"\n",
    "    opinions = [\n",
    "        \"I think phones should be banned from school since they are distracting from students learning.\",\n",
    "        \"Phones are necessary for emergency situations, so they shouldn't be banned.\",\n",
    "        \"Banning phones would eliminate cheating during exams.\",\n",
    "        \"Students need phones to stay connected with their parents.\",\n",
    "        \"Phones can be educational tools when used properly in the classroom.\"\n",
    "    ]\n",
    "\n",
    "    for opinion in opinions:\n",
    "        store_result(gpt4_call(question, opinion))\n",
    "\n",
    "    print(\"\\nCore Argument Frequencies:\")\n",
    "    for reason, count in previous_results.items():\n",
    "        print(f\"{reason}: {count}\")"
   ]
  }
 ],
 "metadata": {
  "kernelspec": {
   "display_name": ".venv",
   "language": "python",
   "name": "python3"
  },
  "language_info": {
   "codemirror_mode": {
    "name": "ipython",
    "version": 3
   },
   "file_extension": ".py",
   "mimetype": "text/x-python",
   "name": "python",
   "nbconvert_exporter": "python",
   "pygments_lexer": "ipython3",
   "version": "3.12.4"
  }
 },
 "nbformat": 4,
 "nbformat_minor": 2
}
